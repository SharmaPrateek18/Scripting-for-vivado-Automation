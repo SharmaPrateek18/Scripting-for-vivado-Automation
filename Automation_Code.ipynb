import os
import shutil
import pandas as pd
import numpy as np
import matplotlib as mpl

## Reporting all verilog and System Verilog files
    
Verilog_files = os.listdir("Directory/Modules")
print("The following files are verilog and system verilog files:",Verilog_files)

top_modules = []
for mod in Verilog_files:
    if(mod[:3] == "top"):
        if(mod[-2:] != "sv"):
            top_modules.append(mod[:-2])
        else:
            top_modules.append(mod[:-3])
print("The following are top modules files:", top_modules)

## First clearing previous directories if user permits

del_files1 = os.listdir("Impl")
print("To store the new reports, we need to delete these old files:", del_files1)
print("Do you agree to delete?")
i = input()
if (i == 'yes'):
    dir = 'Impl'
    for files in os.listdir("Impl"):
        path = os.path.join(dir, files)
        try:
            shutil.rmtree(path)
        except OSError:
            os.remove(path)
else:
    print("Files not deleted! Sequence interrupted.")
    print("System Exiting")
    print("Program End")
    sys.exit()
 
## Deleting Old Automation project and files if user permits

del_files2 = os.listdir("Automation")
print("To start the Automation process, we need to delete these old files:", del_files2)
print("Do you agree to delete?")
i = input()
if (i == 'yes'):
    dir = 'Automation'
    for files in os.listdir("Automation"):
        path = os.path.join(dir,files)
        try:
            shutil.rmtree(path)
        except OSError:
            os.remove(path)
    print("Files deleted successfully!")
else:
    print("Files not deleted! Sequence interrupted.")
    print("System Exiting")
    print("Program End")
    sys.exit()
    
## Creating new Vivado Project

print("Creating new Automation project...")
os.system("vivado -mode batch -source Script/tcl_create.tcl")
print("New Automation project created!...")

## Adding Verilog and System Verilog files to it

print("Adding module files...")
for mod in Verilog_files:
    print("Adding module file {}".format(mod))
    os.system("vivado -mode batch -source Script/tcl_add.tcl -tclargs {}".format(mod))
print("module Files Added")

## Creating directories for storing Power, Timing and Utilization reports

for mod in top_modules:
    os.mkdir('Impl/' + mod);
print("Directories for storing Power, Timing and Utilization reports successfully created")

## Running Synthesis and Implementation

for mod in top_modules:
    print("running synthesis and implementation of {}".format(mod))
    os.system("vivado -mode batch -source Script/tcl_run.tcl -tclargs {}".format(mod))
    print("{} is Implemented and Reports are Generated".format(mod))

## Obtaining Delay Results from reports generated

Data_Path_Delay = []
Logic_Delay = []
Routing_Delay = []
for mod in top_modules:
    with open("Impl/{}/timing.txt".format(mod)) as f:
        lines_time = f.read()
        timing = lines_time.split("\n")
        timing_info = [line for line in timing if "Data Path Delay" in line]
        DataPathDelay = float(timing_info[0].split()[3][:-2])
        Logic = float(timing_info[0].split()[5][:-2])
        Route = float(timing_info[0].split()[8][:-2])
        print("Total Data Path Delay of {} = ".format(mod), DataPathDelay)
        print("Logic Delay of {} = ".format(mod), Logic)
        print("Routing Delay {} = ".format(mod), Route)
        print("Writing the timing values of {} to the file".format(mod))
        Data_Path_Delay.append(DataPathDelay)   
        Logic_Delay.append(Logic)
        Routing_Delay.append(Route)
        
## Obtaining Power Results from reports generated

Total_Power_Consumption = []
Slice_Logic_Power_Consumption = []
Signal_Power_Consumption = []
Static_Power_Consumption = []
DC_Power_Consumption = []
for mod in top_modules:
    with open("Impl/{}/power.txt".format(mod)) as f:
        lines_power = f.read()
        power = lines_power.split("\n")
        TotalPower = [line for line in power if "Total On-Chip Power" in line]
        Total_Power = float(TotalPower[0].split()[6])
        SliceLogicPower = [line for line in power if "Slice Logic" in line]
        Slice_Logic_Power = float(SliceLogicPower[0].split()[4])
        SignalPower = [line for line in power if "Signal" in line]
        Signal_Power = float(SignalPower[0].split()[3])
        StaticPower = [line for line in power if "Static" in line]
        Static_Power = float(StaticPower[1].split()[4])
        IOPower = [line for line in power if "I/O" in line]
        IO_Power = float(IOPower[0].split()[3])
        print("Total Power Consumption of {} = ".format(mod), Total_Power)
        print("Total Slice Logic Power Consumption of {} = ".format(mod), Slice_Logic_Power)
        print("Total Signal Power Consumption of {} = ".format(mod), Signal_Power)
        print("Total Static Power Consumption of {} = ".format(mod), Static_Power)
        print("Total DC Power Consumption of {} = ".format(mod), IO_Power)
        print("Writing the Power Consumption values of {} to the file".format(mod))
        Total_Power_Consumption.append(Total_Power)
        Slice_Logic_Power_Consumption.append(Slice_Logic_Power)
        Signal_Power_Consumption.append(Signal_Power)
        Static_Power_Consumption.append(Static_Power)
        DC_Power_Consumption.append(IO_Power)
        
## Obtaining Utilization Results from reports generated

Slice_LUTs_1 = []
LUT_as_Logic_1 = []
LUT_as_Memory_1 = []
Slice_Registers_1 = []
Register_as_Flip_Flop_1 = []
Register_as_Latch_1 = []
F7_Muxes_1 = []
F8_Muxes_1 = []
IBUF_1_1 = []
OBUF_1_1 = []
LUT_6_1 = []
LUT_5_1 = []
LUT_4_1 = []
LUT_3_1 = []
LUT_2_1 = []
for mod in top_modules:
    with open("Impl/{}/utilization.txt".format(mod)) as f:
        lines_utilization = f.read()
        utilization = lines_utilization.split("\n")
        SliceLUTs = [line for line in utilization if "Slice LUTs" in line]
        Slice_LUTs = int(SliceLUTs[0].split()[4])
        LUTasLogic = [line for line in utilization if "LUT as Logic" in line]
        LUT_as_Logic = int(LUTasLogic[0].split()[5])
        LUTasMemory = [line for line in utilization if "LUT as Memory" in line]
        LUT_as_Memory = int(LUTasMemory[0].split()[5])
        SliceRegisters = [line for line in utilization if "Slice Registers" in line]
        Slice_Registers = int(SliceRegisters[0].split()[4])
        RegisterasFlipFlop = [line for line in utilization if "Register as Flip Flop" in line]
        Register_as_Flip_Flop = int(RegisterasFlipFlop[0].split()[6])
        RegisterasLatch = [line for line in utilization if "Register as Latch" in line]
        Register_as_Latch = int(RegisterasLatch[0].split()[5])
        F7Muxes = [line for line in utilization if "F7 Muxes" in line]
        F7_Muxes = int(F7Muxes[0].split()[4])
        F8Muxes = [line for line in utilization if "F8 Muxes" in line]
        F8_Muxes = int(F8Muxes[0].split()[4])
        IBUF_0 = [line for line in utilization if "IBUF" in line]
        IBUF_1 = int(IBUF_0[2].split()[3])
        OBUF_0 = [line for line in utilization if "OBUF" in line]
        OBUF_1 = int(OBUF_0[0].split()[3])
        LUT6 = [line for line in utilization if "LUT6" in line]
        LUT_6 = int(LUT6[0].split()[3])
        LUT5 = [line for line in utilization if "LUT5" in line]
        LUT_5 = int(LUT5[0].split()[3])
        LUT4 = [line for line in utilization if "LUT4" in line]
        LUT_4 = int(LUT4[0].split()[3])
        LUT3 = [line for line in utilization if "LUT3" in line]
        LUT_3 = int(LUT3[0].split()[3])
        LUT2 = [line for line in utilization if "LUT2" in line]
        LUT_2 = int(LUT2[0].split()[3])
        print("Slice LUTs Used by {} = ".format(mod), Slice_LUTs)
        print("LUT as Logic Used by {} = ".format(mod), LUT_as_Logic)
        print("LUT as Memory Used by{} = ".format(mod), LUT_as_Memory)
        print("Slice Registers Used by {} = ".format(mod), Slice_Registers)
        print("Register as Flip Flop Used by {} = ".format(mod), Register_as_Flip_Flop)
        print("Register as Latch Used by {} = ".format(mod), Register_as_Latch)
        print("F7 Muxes Used by {} = ".format(mod), F7_Muxes)
        print("F8 Muxes Used by {} = ".format(mod), F8_Muxes)
        print("IBUF Used by {} = ".format(mod), IBUF_1)
        print("OBUF Used by {} = ".format(mod), OBUF_1)
        print("LUT6 Used by {} = ".format(mod), LUT_6)
        print("LUT5 Used by {} = ".format(mod), LUT_5)
        print("LUT4 Used by {} = ".format(mod), LUT_4)
        print("LUT3 Used by {} = ".format(mod), LUT_3)
        print("LUT2 Used by {} = ".format(mod), LUT_2)
        print("Writing the Utilization values of {} to the file".format(mod))
        Slice_LUTs_1.append(Slice_LUTs)
        LUT_as_Logic_1.append(LUT_as_Logic)
        LUT_as_Memory_1.append(LUT_as_Memory)
        Slice_Registers_1.append(Slice_Registers)
        Register_as_Flip_Flop_1.append(Register_as_Flip_Flop)
        Register_as_Latch_1.append(Register_as_Latch)
        F7_Muxes_1.append(F7_Muxes)
        F8_Muxes_1.append(F8_Muxes)
        IBUF_1_1.append(IBUF_1)
        OBUF_1_1.append(OBUF_1)
        LUT_6_1.append(LUT_6)
        LUT_5_1.append(LUT_5)
        LUT_4_1.append(LUT_4)
        LUT_3_1.append(LUT_3)
        LUT_2_1.append(LUT_2)

## Getting Results From the outputs obtained and storing them in .csv format

Result = [Data_Path_Delay, Logic_Delay, Routing_Delay, Total_Power_Consumption, Slice_Logic_Power_Consumption, Signal_Power_Consumption, Static_Power_Consumption, DC_Power_Consumption, Slice_LUTs_1, LUT_as_Logic_1, LUT_as_Memory_1, Slice_Registers_1, Register_as_Flip_Flop_1, Register_as_Latch_1, F7_Muxes_1, F8_Muxes_1, IBUF_1_1, OBUF_1_1, LUT_6_1, LUT_5_1, LUT_4_1, LUT_3_1, LUT_2_1]
Result_T = np.array(Result).T
heading_columns = ["Data Path Delay", "Logic_Delay", "Routing_Delay", "Total Power Consumption", "Slice Logic Power Consumption", "Signal Power Consumption", "Static Power Consumption", "DC Power Consumption", "Slice LUTs ", "LUT as Logic", "LUT as Memory", "Slice Registers", "Register as Flip Flop", "Register as Latch", "F7 Muxes", "F8 Muxes", "IBUF", "OBUF", "LUT 6", "LUT 5", "LUT 4", "LUT 3", "LUT 2"]
Result_1 = pd.DataFrame(Result_T)
Result_1.columns = heading_columns
Result_1.index = [top_modules]
Result_1.to_csv('Output_of_Automation/Output_of_Automation.csv')
print("Output_of_Automation.csv file saved at location Output_of_Automation directory")
print("Automation Completed Successfully")
print("Program End")
